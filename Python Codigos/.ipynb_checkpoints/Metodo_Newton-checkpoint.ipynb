{
 "cells": [
  {
   "cell_type": "code",
   "execution_count": 29,
   "id": "c48f6542-1b02-4879-80d1-513a6c30dc20",
   "metadata": {},
   "outputs": [
    {
     "name": "stdout",
     "output_type": "stream",
     "text": [
      "Minimizar f = x**2 - x + y**2 + 10\n",
      "Matrix([[1/2], [1]])\n"
     ]
    },
    {
     "data": {
      "text/plain": [
       "'\\nwhile(i<100):\\n    H_inv_eval= H_inv.subs([(x, x0[0]), (y, x0[1])])\\n    grad_eval = grad.subs([(x, x0[0]), (y, x0[1])])\\n    \\n    x1 = x0 - H_inv_eval * grad_eval\\n\\n    if (np.linalg.norm(x1 - x0) < tol):\\n        break\\n    x0 = x1\\n    \\n    i += 1\\n'"
      ]
     },
     "execution_count": 29,
     "metadata": {},
     "output_type": "execute_result"
    }
   ],
   "source": [
    "# https://numython.github.io/posts/resolviendo-problemas-de-optimizacion-con-python/\n",
    "import sympy as fsp\n",
    "import numpy as np\n",
    "\"\"\" Calcula el gradiente de una función f(x1,x2,...)\"\"\"\n",
    "def gradient(f, var):\n",
    "    n = len(var)\n",
    "    grad = sp.zeros(n,1)\n",
    "    for i in range(n):\n",
    "        grad[i] = f.diff(var[i])\n",
    "    return grad\n",
    "\"\"\" Nuestra problema a resolver\"\"\"\n",
    "x,y = sp.symbols(\"x,y\")\n",
    "# Maximizar la siguiente funcion\n",
    "f = -x**2 + x - y**2 - 10\n",
    "# Minimizacion\n",
    "f = -f\n",
    "print(f\"Minimizar f = {f}\")\n",
    "\"\"\" Hallamos el gradiente y la hessiana de f\"\"\"\n",
    "grad = gradient(f, (x,y))\n",
    "H = sp.hessian(f, (x,y))\n",
    "# inversa de la matriz hessiana\n",
    "H_inv = H.inv()\n",
    "\"\"\" Iteramos \"\"\"\n",
    "i = 0\n",
    "x0 = [1,1]\n",
    "#grad_eval = grad.subs([(x, x0), (y, y0)])\n",
    "tol = 1e-3\n",
    "H_inv_eval= H_inv.subs([(x, x0[0]), (y, x0[1])])\n",
    "grad_eval = grad.subs([(x, x0[0]), (y, x0[1])])\n",
    "print( H_inv_eval * grad_eval)\n",
    "\"\"\"\n",
    "while(i<100):\n",
    "    H_inv_eval= H_inv.subs([(x, x0[0]), (y, x0[1])])\n",
    "    grad_eval = grad.subs([(x, x0[0]), (y, x0[1])])\n",
    "    \n",
    "    x1 = x0 - H_inv_eval * grad_eval\n",
    "\n",
    "    if (np.linalg.norm(x1 - x0) < tol):\n",
    "        break\n",
    "    x0 = x1\n",
    "    \n",
    "    i += 1\n",
    "\"\"\"\n",
    "#sp.Eq(G,sp.zeros(2,1))"
   ]
  }
 ],
 "metadata": {
  "kernelspec": {
   "display_name": "Python 3 (ipykernel)",
   "language": "python",
   "name": "python3"
  },
  "language_info": {
   "codemirror_mode": {
    "name": "ipython",
    "version": 3
   },
   "file_extension": ".py",
   "mimetype": "text/x-python",
   "name": "python",
   "nbconvert_exporter": "python",
   "pygments_lexer": "ipython3",
   "version": "3.11.5"
  }
 },
 "nbformat": 4,
 "nbformat_minor": 5
}
