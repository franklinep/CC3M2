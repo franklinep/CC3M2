{
 "cells": [
  {
   "cell_type": "markdown",
   "id": "68978be6-76a9-4ab8-aa81-ad17ae041115",
   "metadata": {},
   "source": [
    "# Metodo Simple Maximizacion "
   ]
  },
  {
   "cell_type": "code",
   "execution_count": null,
   "id": "232747a8-8762-4318-b661-61dc8de48279",
   "metadata": {},
   "outputs": [],
   "source": [
    "def fill_table(n, m):\n",
    "    # Inicializar la tabla con ceros\n",
    "    row = m + 1\n",
    "    col = m + n + 1\n",
    "    table = [[0 for _ in range(col)] for _ in range(row)]\n",
    "\n",
    "    # Pedir y llenar las restricciones\n",
    "    for i in range(row - 1):\n",
    "        constraint_coefficients = list(map(float, input(\n",
    "            f\"Ingrese los coeficientes de la restricción {i + 1} (coeficientes separados por espacio):\").split()))\n",
    "        for j in range(n):\n",
    "            table[i][j] = constraint_coefficients[j]\n",
    "        # Coeficiente de la variable de holgura para la restricción i\n",
    "        table[i][n + i] = 1  # Variable de holgura\n",
    "\n",
    "        # Término independiente\n",
    "        table[i][col - 1] = constraint_coefficients[n]\n",
    "\n",
    "    # Pedir la función objetivo\n",
    "    objective_function = list(map(float, input(\n",
    "        \"Ingrese los coeficientes de la función objetivo (coeficientes separados por espacio):\").split()))\n",
    "\n",
    "    # Llenar la última fila de la tabla con la función objetivo\n",
    "    for j in range(n):\n",
    "        table[row - 1][j] = -1*objective_function[j]\n",
    "    \n",
    "    return table "
   ]
  },
  {
   "cell_type": "code",
   "execution_count": null,
   "id": "9232cb6a653801d1",
   "metadata": {
    "collapsed": false
   },
   "outputs": [],
   "source": [
    "def get_optimos(n, row, col, table):\n",
    "    count_ones = 0\n",
    "    indice = 0\n",
    "    x_opt = [0] * n\n",
    "    for j in range(n): # x_j\n",
    "        for i in range(row):\n",
    "            # Si no es 0 o 1 se pasa a la siguiente columna\n",
    "            if table[i][j]!=0 or table[i][j]!=1: break\n",
    "            \n",
    "            # Valor valido entonces contamos 1's y guardamos indice de las filas\n",
    "            if table[i][j]==1: \n",
    "                indice = i\n",
    "                count_ones += 1 \n",
    "        \n",
    "        # Si no hallo ningun 1, o mas de un 1's\n",
    "        if count_ones != 1: continue\n",
    "        \n",
    "        # Acabo de recorred las filas de la columna actual\n",
    "        x_opt[j] = table[col-1][indice]\n",
    "    \n",
    "    return x_opt\n",
    "            "
   ]
  },
  {
   "cell_type": "code",
   "execution_count": null,
   "id": "fd01570f-2a69-42df-887e-2527f83e7e0a",
   "metadata": {},
   "outputs": [],
   "source": [
    "# Metodo para devolver los indices del pivote optimo\n",
    "def index_pivot(n, row, col, table):\n",
    "    index = (-1, -1)\n",
    "    # --- Columna\n",
    "    # Buscamos el mayor negativo entre x1, x2, x3, xn\n",
    "    last = row - 1\n",
    "    max_value = 0\n",
    "    for j in range(n):\n",
    "        if table[last][j] < max_value:\n",
    "            max_value = table[last][j]\n",
    "            index = (last, j)\n",
    "    # ---- Fila\n",
    "    # El menor número positivo al dividir (biq/aiq)\n",
    "    j_b = col - 1\n",
    "    j_pivot = index[1]\n",
    "    min_value = float('inf')\n",
    "    for i in range(row - 1):\n",
    "        if table[i][j_pivot] > 0:\n",
    "            r = table[i][j_b] / table[i][j_pivot]\n",
    "            if r < min_value:\n",
    "                min_value = r\n",
    "                index = (i, j_pivot)\n",
    "    return index\n"
   ]
  },
  {
   "cell_type": "code",
   "execution_count": null,
   "id": "5cf34973-20a0-48cf-a267-babe91546362",
   "metadata": {},
   "outputs": [],
   "source": [
    "# Metodo para saber si aun son negativos en la ultima fila\n",
    "def has_negatives(n, row, table):\n",
    "    last = row - 1\n",
    "    for j in range(n):\n",
    "        if table[last][j] < 0:\n",
    "            return True\n",
    "    return False"
   ]
  },
  {
   "cell_type": "code",
   "execution_count": null,
   "id": "c7816218-9055-4138-bec5-9fde66611475",
   "metadata": {},
   "outputs": [],
   "source": [
    "def print_table(table, n, m):\n",
    "    headers = []\n",
    "    # Encabezados para las variables x1, x2, ..., xn\n",
    "    for i in range(n):\n",
    "        headers.append(f'x{i + 1}')\n",
    "    # Encabezados para las variables de holgura s1, s2, ..., sm\n",
    "    for i in range(m):\n",
    "        headers.append(f's{i + 1}')\n",
    "    # Encabezado para el resultado r\n",
    "    headers.append('r')\n",
    "\n",
    "    # Imprimir los encabezados\n",
    "    print(\"\\t\".join(headers))\n",
    "\n",
    "    # Imprimir la tabla\n",
    "    for row in table:\n",
    "        print(\"\\t\".join(map(lambda x: \"{:.2f}\".format(x), row)))\n"
   ]
  },
  {
   "cell_type": "code",
   "execution_count": null,
   "id": "f8461921-e44f-45ee-b334-817a003870ff",
   "metadata": {},
   "outputs": [],
   "source": [
    "# Realizar operaciones fila\n",
    "def convert_table(row, col, pivot_row, pivot_column, table):\n",
    "    ratio = table[pivot_row][pivot_column]\n",
    "    for i in range(row):\n",
    "        if i != pivot_row:\n",
    "            factor = table[i][pivot_column] / ratio\n",
    "            for j in range(col):\n",
    "                table[i][j] -= factor * table[pivot_row][j]"
   ]
  },
  {
   "cell_type": "code",
   "execution_count": null,
   "id": "cdfe9e47-4988-439b-a7ee-1235f195c2fc",
   "metadata": {},
   "outputs": [],
   "source": [
    "def simplex_method_maximize():\n",
    "    n = int(input(\"Número de variables: \"))\n",
    "    m = int(input(\"Número de restricciones: \"))\n",
    "    row = m + 1\n",
    "    col = m + n + 1\n",
    "    table = fill_table(n, m)\n",
    "    \n",
    "    print(\"\\nEntrando al bucle.....\\n\")\n",
    "    \n",
    "    while True:\n",
    "        pivot_row, pivot_column = index_pivot(n, row, col, table)\n",
    "        pivot_value = table[pivot_row][pivot_column]\n",
    "        print(f\"Nuestro pivote[{pivot_row}][{pivot_column}] = {pivot_value}\")\n",
    "        \n",
    "        # Convertir el pivote a 1 y hacer ceros en la columna del pivote\n",
    "        for j in range(col):\n",
    "            table[pivot_row][j] /= pivot_value\n",
    "        \n",
    "        convert_table(row, col, pivot_row, pivot_column, table)\n",
    "        \n",
    "        print(\"\\nActualizando tabla ..........\\n\")\n",
    "        print_table(table, n, m)\n",
    "        \n",
    "        if not has_negatives(n, row, table):\n",
    "            break\n",
    "\n",
    "simplex_method_maximize()"
   ]
  },
  {
   "cell_type": "markdown",
   "id": "52a1385b-99a8-43a5-baae-8158e50296b2",
   "metadata": {},
   "source": [
    "# Metodo Simple Minimizacion"
   ]
  },
  {
   "cell_type": "code",
   "execution_count": null,
   "id": "1146e130-eca0-481d-842e-4de7aacfbaaa",
   "metadata": {},
   "outputs": [],
   "source": [
    "def index_pivot_2(row, col, table, arr):\n",
    "    last = row - 1\n",
    "    min_diff = float('inf')\n",
    "    pivot_column = -1\n",
    "    for j in range(col - 1):\n",
    "        diff = table[last][j]\n",
    "        for i in range(row - 1):\n",
    "            diff -= table[i][j] * arr[i]\n",
    "        if diff < min_diff:\n",
    "            min_diff = diff\n",
    "            pivot_column = j\n",
    "\n",
    "    if pivot_column == -1:\n",
    "        return None  # No se encontró un pivote válido\n",
    "\n",
    "    min_ratio = float('inf')\n",
    "    pivot_row = -1\n",
    "    j_b = col - 1\n",
    "    for i in range(row - 1):\n",
    "        if table[i][pivot_column] > 0:\n",
    "            ratio = table[i][j_b] / table[i][pivot_column]\n",
    "            if ratio < min_ratio:\n",
    "                min_ratio = ratio\n",
    "                pivot_row = i\n",
    "\n",
    "    if pivot_row == -1:\n",
    "        return None  # No se encontró una fila válida para el pivote\n",
    "\n",
    "    # Cambiamos los valores de los coeficientes básicos\n",
    "    arr[pivot_row] = table[last][pivot_column]\n",
    "    return pivot_row, pivot_column"
   ]
  },
  {
   "cell_type": "code",
   "execution_count": null,
   "id": "b0e2d52d-208e-46f6-b43a-7f25979acc2a",
   "metadata": {},
   "outputs": [],
   "source": [
    "def has_negatives_2(row, col, table, arr):\n",
    "    last = row - 1\n",
    "    for j in range(col - 1):\n",
    "        diff = table[last][j]\n",
    "        for i in range(row - 1):\n",
    "            diff -= table[i][j] * arr[i]\n",
    "        if diff < 0:\n",
    "            return True\n",
    "    return False"
   ]
  },
  {
   "cell_type": "code",
   "execution_count": null,
   "id": "fbb1b4ec-600d-4ae5-9b15-edb2048e5206",
   "metadata": {},
   "outputs": [],
   "source": [
    "M = float('inf')\n",
    "\n",
    "def filltable2(n, m):\n",
    "    row = m + 1\n",
    "    col = n + 2 * m + 1\n",
    "\n",
    "    # Inicializar la tabla con ceros\n",
    "    table = [[0 for _ in range(col)] for _ in range(row)]\n",
    "\n",
    "    # Pedir los coeficientes de la función objetivo\n",
    "    print(\"Ingrese los coeficientes de la función objetivo (separados por espacio):\")\n",
    "    objective_coeffs = list(map(float, input().split()))\n",
    "    \n",
    "    # Llenar la última fila de la tabla con la función objetivo\n",
    "    for j in range(n):\n",
    "        table[row - 1][j] = objective_coeffs[j]\n",
    "    \n",
    "    j = n\n",
    "    for i in range(m):\n",
    "        table[row-1][j] = 0\n",
    "        table[row-1][j+1] = M\n",
    "        j += 2\n",
    "    \n",
    "    # Pedir y llenar las restricciones\n",
    "    for i in range(0, row-1):\n",
    "        print(f\"Ingrese los coeficientes de la restricción {i+1} (separados por espacio):\")\n",
    "        constraint_coeffs = list(map(float, input().split()))\n",
    "        for j in range(n):\n",
    "            table[i][j] = constraint_coeffs[j]\n",
    "        # Coeficiente de la variable de exceso para la restricción i\n",
    "        table[i][n + i*2] = -1  # Variable de exceso S\n",
    "        table[i][n + i*2 + 1] = 1       # Variable artificial A\n",
    "        # Término independiente\n",
    "        table[i][col - 1] = constraint_coeffs[n]\n",
    "\n",
    "    return table"
   ]
  },
  {
   "cell_type": "code",
   "execution_count": null,
   "id": "cf9ff9e1-0779-4fe0-97c8-0882ec743cd9",
   "metadata": {},
   "outputs": [],
   "source": [
    "def simplex_method_minimize():\n",
    "    n = int(input(\"Numero de Variables: \"))\n",
    "    m = int(input(\"Numero de Restricciones: \"))\n",
    "    row = m + 1 \n",
    "    col = n + 2 * m + 1\n",
    "\n",
    "    # Array de los coeficientes Basicos\n",
    "    arr = [M] * m\n",
    "\n",
    "    # Rellenamos nuestra tabla\n",
    "    table = filltable2(n, m)\n",
    "    \n",
    "    print_table(table,n,m)\n",
    "    while True:\n",
    "        # Identificamos nuestro pivote\n",
    "        pivot_row, pivot_column = index_pivot_2(row, col, table, arr)\n",
    "        pivot_value = table[pivot_row][pivot_column]\n",
    "        print(f\"\\nNuestro pivote[{pivot_row}][{pivot_column}] = {pivot_value}\")\n",
    "\n",
    "        # Convertimos el pivote a 1 y hacemos ceros en la columna del pivote\n",
    "        for j in range(col):\n",
    "            table[pivot_row][j] /= pivot_value\n",
    "\n",
    "        # Convertimos 0's en la columna del pivote mediante operaciones fila\n",
    "        # OP : filaActual - razon*filaPivote\n",
    "        convert_table(row-1, col, pivot_row, pivot_column, table)\n",
    "        \n",
    "        # Actualizamos la tabla\n",
    "        print(\"\\nActualizando tabla ..........\\n\")\n",
    "        print_table(table,n,m)\n",
    "\n",
    "        if not has_negatives_2(row, col, table, arr):\n",
    "            break\n",
    "\n",
    "# Ejecutamos el método\n",
    "simplex_method_minimize()"
   ]
  },
  {
   "cell_type": "markdown",
   "id": "72d4b4bd-80a0-452b-9dd6-7a111972bbc4",
   "metadata": {},
   "source": [
    "# Metodo simple Maximizacion - Mixto\n"
   ]
  },
  {
   "cell_type": "code",
   "execution_count": 2,
   "id": "dbb78df0-420e-4963-827e-1ff35baeaa79",
   "metadata": {},
   "outputs": [
    {
     "name": "stdout",
     "output_type": "stream",
     "text": [
      "Requirement already satisfied: pulp in c:\\users\\frank\\appdata\\local\\programs\\python\\python311\\lib\\site-packages (2.7.0)\n"
     ]
    }
   ],
   "source": [
    "!pip install pulp"
   ]
  },
  {
   "cell_type": "code",
   "execution_count": null,
   "id": "ec9ba69fbbde2712",
   "metadata": {
    "collapsed": false
   },
   "outputs": [],
   "source": [
    "from pulp import *\n",
    "p1 = LpProblem(\"Metodo_Simplex_Mixto\", LpMaximize)\n",
    "x1 = LpVariable(\"X1\")\n",
    "x2 = LpVariable(\"X2\")"
   ]
  },
  {
   "cell_type": "code",
   "execution_count": null,
   "id": "4cd26fa66358a8b5",
   "metadata": {
    "collapsed": false
   },
   "outputs": [],
   "source": [
    "# Funcion objetivo\n",
    "p1 += 7*x1 + 9*x2\n",
    "# Restricciones\n",
    "p1 += -x1 + 3*x2 <= 6\n",
    "p1 += 7*x1 + x2 <= 35\n",
    "p1 += x1 >=0\n",
    "p1 += x2 >=0"
   ]
  },
  {
   "cell_type": "code",
   "execution_count": null,
   "id": "6a38c18b7285b8a0",
   "metadata": {
    "collapsed": false
   },
   "outputs": [],
   "source": [
    "status = p1.solve()\n",
    "print(value(x1))\n",
    "print(value(x2))"
   ]
  },
  {
   "cell_type": "markdown",
   "id": "f1e37465ef3a7104",
   "metadata": {
    "collapsed": false
   },
   "source": [
    "# Metodo dual"
   ]
  },
  {
   "cell_type": "markdown",
   "id": "217f780a073bb503",
   "metadata": {
    "collapsed": false
   },
   "source": [
    "# Metodo Branch and Bound"
   ]
  },
  {
   "cell_type": "code",
   "execution_count": 3,
   "id": "adb6d49b3d5cd863",
   "metadata": {
    "ExecuteTime": {
     "end_time": "2023-10-16T21:56:12.350248Z",
     "start_time": "2023-10-16T21:56:12.278803900Z"
    },
    "collapsed": false
   },
   "outputs": [],
   "source": [
    "import pulp\n",
    "\n",
    "def branch_and_bound(prob):\n",
    "  \"\"\"\n",
    "  Resuelve un problema de programación lineal utilizando el algoritmo de ramificación y acotamiento.\n",
    "\n",
    "  Parámetros:\n",
    "    prob: Problema de programación lineal definido en Pulp.\n",
    "\n",
    "  Devuelve:\n",
    "    La solución óptima del problema.\n",
    "  \"\"\"\n",
    "\n",
    "  # Resolver el problema como un modelo continuo\n",
    "\n",
    "  prob_cont = prob.copy()\n",
    "  prob_cont.solve()\n",
    "\n",
    "  # Si la solución es entera, devolverla\n",
    "\n",
    "  if prob_cont.status == pulp.LpStatusOptimal:\n",
    "    return prob_cont.x\n",
    "\n",
    "  # Generar los subproblemas ramificados\n",
    "\n",
    "  for var in prob.variables:\n",
    "    if not var.is_integer():\n",
    "      prob_l = prob.copy()\n",
    "      prob_l[var] = var.lb\n",
    "      prob_u = prob.copy()\n",
    "      prob_u[var] = var.ub\n",
    "      yield from branch_and_bound(prob_l)\n",
    "      yield from branch_and_bound(prob_u)\n",
    "\n"
   ]
  },
  {
   "cell_type": "code",
   "execution_count": 4,
   "id": "e3124a7a68001427",
   "metadata": {
    "ExecuteTime": {
     "end_time": "2023-10-16T21:56:14.197987600Z",
     "start_time": "2023-10-16T21:56:14.093446800Z"
    },
    "collapsed": false
   },
   "outputs": [
    {
     "name": "stdout",
     "output_type": "stream",
     "text": [
      "<generator object branch_and_bound at 0x0000019669B387C0>\n"
     ]
    }
   ],
   "source": [
    "import pulp\n",
    "\n",
    "def example():\n",
    "  # Definir el problema de programación lineal\n",
    "\n",
    "  prob = pulp.LpProblem(\"example\", pulp.LpMaximize)\n",
    "\n",
    "  x1 = pulp.LpVariable(\"x1\", 0, None, pulp.LpInteger)\n",
    "  x2 = pulp.LpVariable(\"x2\", 0, None, pulp.LpInteger)\n",
    "\n",
    "  prob += x1 + 5 * x2\n",
    "\n",
    "  prob += 11 * x1 + 6 * x2 <= 66\n",
    "  prob += 5 * x1 + 50 * x2 <= 225\n",
    "\n",
    "  # Resolver el problema utilizando el algoritmo branch and bound\n",
    "\n",
    "  sol = branch_and_bound(prob)\n",
    "\n",
    "  # Imprimir la solución óptima\n",
    "\n",
    "  print(sol)\n",
    "\n",
    "if __name__ == \"__main__\":\n",
    "  example()\n"
   ]
  }
 ],
 "metadata": {
  "kernelspec": {
   "display_name": "Python 3 (ipykernel)",
   "language": "python",
   "name": "python3"
  },
  "language_info": {
   "codemirror_mode": {
    "name": "ipython",
    "version": 3
   },
   "file_extension": ".py",
   "mimetype": "text/x-python",
   "name": "python",
   "nbconvert_exporter": "python",
   "pygments_lexer": "ipython3",
   "version": "3.11.5"
  }
 },
 "nbformat": 4,
 "nbformat_minor": 5
}
