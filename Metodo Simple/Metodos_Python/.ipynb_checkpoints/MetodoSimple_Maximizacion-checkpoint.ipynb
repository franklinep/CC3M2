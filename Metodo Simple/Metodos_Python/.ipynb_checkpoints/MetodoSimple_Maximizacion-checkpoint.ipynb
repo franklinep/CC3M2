{
 "cells": [
  {
   "cell_type": "markdown",
   "id": "68978be6-76a9-4ab8-aa81-ad17ae041115",
   "metadata": {},
   "source": [
    "# Metodo Simple Maximizacion "
   ]
  },
  {
   "cell_type": "code",
   "execution_count": 21,
   "id": "232747a8-8762-4318-b661-61dc8de48279",
   "metadata": {},
   "outputs": [],
   "source": [
    "def fill_table(n, m):\n",
    "    # Inicializar la tabla con ceros\n",
    "    row = m + 1\n",
    "    col = m + n + 1\n",
    "    table = [[0 for _ in range(col)] for _ in range(row)]\n",
    "\n",
    "    # Pedir y llenar las restricciones\n",
    "    for i in range(row - 1):\n",
    "        print(f\"Ingrese los coeficientes de la restricción {i + 1} (coeficientes separados por espacio):\")\n",
    "        constraint_coefficients = list(map(float, input().split()))\n",
    "        for j in range(n):\n",
    "            table[i][j] = constraint_coefficients[j]\n",
    "        # Coeficiente de la variable de holgura para la restricción i\n",
    "        table[i][n + i] = 1  # Variable de holgura\n",
    "\n",
    "        # Término independiente\n",
    "        table[i][col - 1] = constraint_coefficients[n]\n",
    "\n",
    "    # Pedir la función objetivo\n",
    "    print(\"Ingrese los coeficientes de la función objetivo (coeficientes separados por espacio):\")\n",
    "    objective_function = list(map(float, input().split()))\n",
    "\n",
    "    # Llenar la última fila de la tabla con la función objetivo\n",
    "    for j in range(n):\n",
    "        table[row - 1][j] = -1*objective_function[j]\n",
    "\n",
    "    return table"
   ]
  },
  {
   "cell_type": "code",
   "execution_count": 4,
   "id": "fd01570f-2a69-42df-887e-2527f83e7e0a",
   "metadata": {},
   "outputs": [],
   "source": [
    "# Metodo para devolver los indices del pivote optimo\n",
    "def index_pivot(n, row, col, table):\n",
    "    index = (-1, -1)\n",
    "    # --- Columna\n",
    "    # Buscamos el mayor negativo entre x1, x2, x3, xn\n",
    "    last = row - 1\n",
    "    max_value = 0\n",
    "    for j in range(n):\n",
    "        if table[last][j] < max_value:\n",
    "            max_value = table[last][j]\n",
    "            index = (last, j)\n",
    "    # ---- Fila\n",
    "    # El menor número positivo al dividir (biq/aiq)\n",
    "    j_b = col - 1\n",
    "    j_pivot = index[1]\n",
    "    min_value = float('inf')\n",
    "    for i in range(row - 1):\n",
    "        if table[i][j_pivot] > 0:\n",
    "            r = table[i][j_b] / table[i][j_pivot]\n",
    "            if r < min_value:\n",
    "                min_value = r\n",
    "                index = (i, j_pivot)\n",
    "    return index\n"
   ]
  },
  {
   "cell_type": "code",
   "execution_count": 5,
   "id": "5cf34973-20a0-48cf-a267-babe91546362",
   "metadata": {},
   "outputs": [],
   "source": [
    "# Metodo para saber si aun son negativos en la ultima fila\n",
    "def has_negatives(n, row, table):\n",
    "    last = row - 1\n",
    "    for j in range(n):\n",
    "        if table[last][j] < 0:\n",
    "            return True\n",
    "    return False"
   ]
  },
  {
   "cell_type": "code",
   "execution_count": 29,
   "id": "c7816218-9055-4138-bec5-9fde66611475",
   "metadata": {},
   "outputs": [],
   "source": [
    "def print_table(table, n, m):\n",
    "    headers = []\n",
    "    # Encabezados para las variables x1, x2, ..., xn\n",
    "    for i in range(n):\n",
    "        headers.append(f'x{i + 1}')\n",
    "    # Encabezados para las variables de holgura s1, s2, ..., sm\n",
    "    for i in range(m):\n",
    "        headers.append(f's{i + 1}')\n",
    "    # Encabezado para el resultado r\n",
    "    headers.append('r')\n",
    "\n",
    "    # Imprimir los encabezados\n",
    "    print(\"\\t\".join(headers))\n",
    "\n",
    "    # Imprimir la tabla\n",
    "    for row in table:\n",
    "        print(\"\\t\".join(map(lambda x: \"{:.2f}\".format(x), row)))\n"
   ]
  },
  {
   "cell_type": "code",
   "execution_count": 7,
   "id": "f8461921-e44f-45ee-b334-817a003870ff",
   "metadata": {},
   "outputs": [],
   "source": [
    "# Realizar operaciones fila\n",
    "def convert_table(row, col, pivot_row, pivot_column, table):\n",
    "    ratio = table[pivot_row][pivot_column]\n",
    "    for i in range(row):\n",
    "        if i != pivot_row:\n",
    "            factor = table[i][pivot_column] / ratio\n",
    "            for j in range(col):\n",
    "                table[i][j] -= factor * table[pivot_row][j]"
   ]
  },
  {
   "cell_type": "code",
   "execution_count": 27,
   "id": "cdfe9e47-4988-439b-a7ee-1235f195c2fc",
   "metadata": {},
   "outputs": [
    {
     "name": "stdout",
     "output_type": "stream",
     "text": [
      "Número de variables: "
     ]
    },
    {
     "name": "stdin",
     "output_type": "stream",
     "text": [
      " 3\n"
     ]
    },
    {
     "name": "stdout",
     "output_type": "stream",
     "text": [
      "Número de restricciones: "
     ]
    },
    {
     "name": "stdin",
     "output_type": "stream",
     "text": [
      " 3\n"
     ]
    },
    {
     "name": "stdout",
     "output_type": "stream",
     "text": [
      "Ingrese los coeficientes de la restricción 1 (coeficientes separados por espacio):\n"
     ]
    },
    {
     "name": "stdin",
     "output_type": "stream",
     "text": [
      " 2 1 1 2\n"
     ]
    },
    {
     "name": "stdout",
     "output_type": "stream",
     "text": [
      "Ingrese los coeficientes de la restricción 2 (coeficientes separados por espacio):\n"
     ]
    },
    {
     "name": "stdin",
     "output_type": "stream",
     "text": [
      " 1 2 3 5\n"
     ]
    },
    {
     "name": "stdout",
     "output_type": "stream",
     "text": [
      "Ingrese los coeficientes de la restricción 3 (coeficientes separados por espacio):\n"
     ]
    },
    {
     "name": "stdin",
     "output_type": "stream",
     "text": [
      " 2 2 1 6\n"
     ]
    },
    {
     "name": "stdout",
     "output_type": "stream",
     "text": [
      "Ingrese los coeficientes de la función objetivo (coeficientes separados por espacio):\n"
     ]
    },
    {
     "name": "stdin",
     "output_type": "stream",
     "text": [
      " 3 1 3\n"
     ]
    },
    {
     "name": "stdout",
     "output_type": "stream",
     "text": [
      "\n",
      "Entrando al bucle.....\n",
      "\n",
      "Nuestro pivote[0][0] = 2.0\n",
      "\n",
      "Actualizando tabla ..........\n",
      "\n",
      "1.00\t0.50\t0.50\t0.50\t0.00\t0.00\t1.00\n",
      "0.00\t1.50\t2.50\t-0.50\t1.00\t0.00\t4.00\n",
      "0.00\t1.00\t0.00\t-1.00\t0.00\t1.00\t4.00\n",
      "0.00\t0.50\t-1.50\t1.50\t0.00\t0.00\t3.00\n",
      "Nuestro pivote[1][2] = 2.5\n",
      "\n",
      "Actualizando tabla ..........\n",
      "\n",
      "1.00\t0.20\t0.00\t0.60\t-0.20\t0.00\t0.20\n",
      "0.00\t0.60\t1.00\t-0.20\t0.40\t0.00\t1.60\n",
      "0.00\t1.00\t0.00\t-1.00\t0.00\t1.00\t4.00\n",
      "0.00\t1.40\t0.00\t1.20\t0.60\t0.00\t5.40\n"
     ]
    }
   ],
   "source": [
    "def simplex_method_maximize():\n",
    "    print(\"Número de variables: \", end=\"\")\n",
    "    n = int(input())\n",
    "    print(\"Número de restricciones: \", end=\"\")\n",
    "    m = int(input())\n",
    "    row = m + 1\n",
    "    col = m + n + 1\n",
    "    table = fill_table(n, m)\n",
    "    \n",
    "    print(\"\\nEntrando al bucle.....\\n\")\n",
    "    \n",
    "    while True:\n",
    "        pivot_row, pivot_column = index_pivot(n, row, col, table)\n",
    "        pivot_value = table[pivot_row][pivot_column]\n",
    "        print(f\"Nuestro pivote[{pivot_row}][{pivot_column}] = {pivot_value}\")\n",
    "        \n",
    "        # Convertir el pivote a 1 y hacer ceros en la columna del pivote\n",
    "        for j in range(col):\n",
    "            table[pivot_row][j] /= pivot_value\n",
    "        \n",
    "        convert_table(row, col, pivot_row, pivot_column, table)\n",
    "        \n",
    "        print(\"\\nActualizando tabla ..........\\n\")\n",
    "        print_table(table)\n",
    "        \n",
    "        if not has_negatives(n, row, table):\n",
    "            break\n",
    "\n",
    "simplex_method_maximize()"
   ]
  },
  {
   "cell_type": "markdown",
   "id": "52a1385b-99a8-43a5-baae-8158e50296b2",
   "metadata": {},
   "source": [
    "# Metodo Simple Minimizacion"
   ]
  },
  {
   "cell_type": "code",
   "execution_count": 34,
   "id": "1146e130-eca0-481d-842e-4de7aacfbaaa",
   "metadata": {},
   "outputs": [],
   "source": [
    "M = float('inf')\n",
    "def index_pivot2(row, col, table, arr):\n",
    "    last = row - 1\n",
    "    min_diff = M\n",
    "    pivot_column = 0\n",
    "    for j in range(col - 1):\n",
    "        diff = table[last][j]\n",
    "        for i in range(row - 1):\n",
    "            diff -= table[i][j] * arr[i]\n",
    "        if diff < min_diff:\n",
    "            min_diff = diff\n",
    "            pivot_column = j\n",
    "    min_ratio = M\n",
    "    pivot_row = 0\n",
    "    j_b = col - 1\n",
    "    j_pivot = pivot_column\n",
    "    for i in range(row - 1):\n",
    "        if table[i][j_pivot] > 0:\n",
    "            ratio = table[i][j_b] / table[i][j_pivot]\n",
    "            if ratio < min_ratio:\n",
    "                min_ratio = ratio\n",
    "                pivot_row = i\n",
    "    arr[pivot_row] = table[last][pivot_column]\n",
    "    return pivot_row, pivot_column"
   ]
  },
  {
   "cell_type": "code",
   "execution_count": 35,
   "id": "b0e2d52d-208e-46f6-b43a-7f25979acc2a",
   "metadata": {},
   "outputs": [],
   "source": [
    "def has_negatives2(row, col, table, arr):\n",
    "    last = row - 1\n",
    "    for j in range(col - 1):\n",
    "        diff = table[last][j]\n",
    "        for i in range(row - 1):\n",
    "            diff -= table[i][j] * arr[i]\n",
    "        if diff < 0:\n",
    "            return True\n",
    "    return False"
   ]
  },
  {
   "cell_type": "code",
   "execution_count": 52,
   "id": "be105212-99b2-4256-9bd0-5edc9b72cf9b",
   "metadata": {},
   "outputs": [
    {
     "name": "stdin",
     "output_type": "stream",
     "text": [
      "Numero de Variables:  2\n",
      "Numero de Restricciones:  2\n",
      " 3 8\n",
      " 1 4 3.5\n",
      " 1 2 2.5\n"
     ]
    },
    {
     "name": "stdout",
     "output_type": "stream",
     "text": [
      "\n",
      "Tabla generada:\n",
      "3.00\t8.00\n",
      "1.00\t4.00\t3.50\n",
      "1.00\t2.00\t2.50\n"
     ]
    },
    {
     "ename": "NameError",
     "evalue": "name 'index_pivot_2' is not defined",
     "output_type": "error",
     "traceback": [
      "\u001b[1;31m---------------------------------------------------------------------------\u001b[0m",
      "\u001b[1;31mNameError\u001b[0m                                 Traceback (most recent call last)",
      "Cell \u001b[1;32mIn[52], line 50\u001b[0m\n\u001b[0;32m     47\u001b[0m     \u001b[38;5;28;01mdel\u001b[39;00m arr\n\u001b[0;32m     49\u001b[0m \u001b[38;5;66;03m# Ejecutamos el método\u001b[39;00m\n\u001b[1;32m---> 50\u001b[0m \u001b[43msimplex_method_minimize\u001b[49m\u001b[43m(\u001b[49m\u001b[43m)\u001b[49m\n",
      "Cell \u001b[1;32mIn[52], line 21\u001b[0m, in \u001b[0;36msimplex_method_minimize\u001b[1;34m()\u001b[0m\n\u001b[0;32m     18\u001b[0m pivot \u001b[38;5;241m=\u001b[39m \u001b[38;5;241m0\u001b[39m\n\u001b[0;32m     19\u001b[0m \u001b[38;5;28;01mwhile\u001b[39;00m \u001b[38;5;28;01mTrue\u001b[39;00m:\n\u001b[0;32m     20\u001b[0m     \u001b[38;5;66;03m# Identificamos nuestro pivote\u001b[39;00m\n\u001b[1;32m---> 21\u001b[0m     pivot_row, pivot_column \u001b[38;5;241m=\u001b[39m \u001b[43mindex_pivot_2\u001b[49m(row, col, table, arr)\n\u001b[0;32m     22\u001b[0m     pivot_value \u001b[38;5;241m=\u001b[39m table[pivot_row][pivot_column]\n\u001b[0;32m     23\u001b[0m     \u001b[38;5;28mprint\u001b[39m(\u001b[38;5;124mf\u001b[39m\u001b[38;5;124m\"\u001b[39m\u001b[38;5;130;01m\\n\u001b[39;00m\u001b[38;5;124mNuestro pivote[\u001b[39m\u001b[38;5;132;01m{\u001b[39;00mpivot_row\u001b[38;5;132;01m}\u001b[39;00m\u001b[38;5;124m][\u001b[39m\u001b[38;5;132;01m{\u001b[39;00mpivot_column\u001b[38;5;132;01m}\u001b[39;00m\u001b[38;5;124m] = \u001b[39m\u001b[38;5;132;01m{\u001b[39;00mpivot_value\u001b[38;5;132;01m}\u001b[39;00m\u001b[38;5;124m\"\u001b[39m)\n",
      "\u001b[1;31mNameError\u001b[0m: name 'index_pivot_2' is not defined"
     ]
    }
   ],
   "source": [
    "def simplex_method_minimize():\n",
    "    n = int(input(\"Numero de Variables: \"))\n",
    "    m = int(input(\"Numero de Restricciones: \"))\n",
    "    row, col = m + 1, n + 2 * m + 1\n",
    "    table = [[0 for _ in range(col)] for _ in range(row)]\n",
    "\n",
    "    # Array de los coeficientes Basicos\n",
    "    arr = [M] * m\n",
    "\n",
    "    # Rellenamos nuestra tabla\n",
    "    for i in range(row):\n",
    "        table[i] = list(map(float, input().split()))\n",
    "\n",
    "    print(\"\\nTabla generada:\")\n",
    "    for row in table:\n",
    "        print(\"\\t\".join(map(lambda x: \"{:.2f}\".format(x), row)))\n",
    "\n",
    "    pivot = 0\n",
    "    while True:\n",
    "        # Identificamos nuestro pivote\n",
    "        pivot_row, pivot_column = index_pivot_2(row, col, table, arr)\n",
    "        pivot_value = table[pivot_row][pivot_column]\n",
    "        print(f\"\\nNuestro pivote[{pivot_row}][{pivot_column}] = {pivot_value}\")\n",
    "\n",
    "        # Convertimos el pivote a 1 y hacemos ceros en la columna del pivote\n",
    "        for j in range(col):\n",
    "            table[pivot_row][j] /= pivot_value\n",
    "\n",
    "        # Convertimos 0's en la columna del pivote mediante operaciones fila\n",
    "        # OP : filaActual - razon*filaPivote\n",
    "        for i in range(row):\n",
    "            if i != pivot_row:\n",
    "                factor = table[i][pivot_column]\n",
    "                for j in range(col):\n",
    "                    table[i][j] -= factor * table[pivot_row][j]\n",
    "\n",
    "        # Actualizamos la tabla\n",
    "        print(\"\\nActualizando tabla ..........\\n\")\n",
    "        for row in table:\n",
    "            print(\"\\t\".join(map(lambda x: \"{:.2f}\".format(x), row)))\n",
    "\n",
    "        if not has_negatives_2(row, col, table, arr):\n",
    "            break\n",
    "\n",
    "    # Liberar la memoria asignada\n",
    "    del table\n",
    "    del arr\n",
    "\n",
    "# Ejecutamos el método\n",
    "simplex_method_minimize()"
   ]
  },
  {
   "cell_type": "code",
   "execution_count": 51,
   "id": "fbb1b4ec-600d-4ae5-9b15-edb2048e5206",
   "metadata": {},
   "outputs": [],
   "source": [
    "M = float('inf')\n",
    "\n",
    "def filltable2(n, m):\n",
    "    row = m + 1\n",
    "    col = n + 2 * m + 1\n",
    "\n",
    "    # Inicializar la tabla con ceros\n",
    "    table = [[0 for _ in range(col)] for _ in range(row)]\n",
    "\n",
    "    # Pedir los coeficientes de la función objetivo\n",
    "    print(\"Ingrese los coeficientes de la función objetivo (separados por espacio):\")\n",
    "    objective_coeffs = list(map(float, input().split()))\n",
    "    \n",
    "    # Llenar la última fila de la tabla con la función objetivo\n",
    "    for j in range(n):\n",
    "        table[row - 1][j] = objective_coeffs[j]\n",
    "    for j in range(n, col):\n",
    "        if j%2==0: table[row-1][j] = 0\n",
    "        else: table[row-1][j] = M\n",
    "    \n",
    "    # Pedir y llenar las restricciones\n",
    "    for i in range(0, row-1):\n",
    "        print(f\"Ingrese los coeficientes de la restricción {i+1} (separados por espacio):\")\n",
    "        constraint_coeffs = list(map(float, input().split()))\n",
    "        for j in range(n):\n",
    "            table[i][j] = constraint_coeffs[j]\n",
    "        # Coeficiente de la variable de exceso para la restricción i\n",
    "        table[i][n + i*2] = -1  # Variable de exceso S\n",
    "        table[i][n + i*2 + 1] = 1       # Variable artificial A\n",
    "        # Término independiente\n",
    "        table[i][col - 1] = constraint_coeffs[n]\n",
    "\n",
    "    return table"
   ]
  },
  {
   "cell_type": "code",
   "execution_count": null,
   "id": "fe135960-c389-40f1-affc-a38e12f0069b",
   "metadata": {},
   "outputs": [],
   "source": []
  }
 ],
 "metadata": {
  "kernelspec": {
   "display_name": "Python 3 (ipykernel)",
   "language": "python",
   "name": "python3"
  },
  "language_info": {
   "codemirror_mode": {
    "name": "ipython",
    "version": 3
   },
   "file_extension": ".py",
   "mimetype": "text/x-python",
   "name": "python",
   "nbconvert_exporter": "python",
   "pygments_lexer": "ipython3",
   "version": "3.11.5"
  }
 },
 "nbformat": 4,
 "nbformat_minor": 5
}
